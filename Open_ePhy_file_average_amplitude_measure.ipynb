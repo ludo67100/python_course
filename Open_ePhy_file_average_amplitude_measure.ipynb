{
 "cells": [
  {
   "cell_type": "code",
   "execution_count": 1,
   "metadata": {},
   "outputs": [
    {
     "name": "stderr",
     "output_type": "stream",
     "text": [
      "C:\\Users\\ludov\\Anaconda3\\lib\\site-packages\\h5py\\__init__.py:34: FutureWarning: Conversion of the second argument of issubdtype from `float` to `np.floating` is deprecated. In future, it will be treated as `np.float64 == np.dtype(float).type`.\n",
      "  from ._conv import register_converters as _register_converters\n"
     ]
    }
   ],
   "source": [
    "#First import neo, numpy and pyplot\n",
    "import neo\n",
    "import numpy as np\n",
    "from matplotlib import pyplot as plt"
   ]
  },
  {
   "cell_type": "code",
   "execution_count": 2,
   "metadata": {
    "collapsed": true
   },
   "outputs": [],
   "source": [
    "#Open the file with neo \n",
    "my_file = neo.io.AxographIO(r\"C:\\Users\\ludov\\Downloads\\c2, 28-2-2018 006.axgd\")\n",
    "\n",
    "#Create a block object\n",
    "bl = my_file.read_block()"
   ]
  },
  {
   "cell_type": "code",
   "execution_count": 3,
   "metadata": {},
   "outputs": [
    {
     "name": "stdout",
     "output_type": "stream",
     "text": [
      "[array([[-1.81875e-12],\n",
      "       [-2.75625e-12],\n",
      "       [-1.50625e-12],\n",
      "       ...,\n",
      "       [ 9.93750e-13],\n",
      "       [-2.56250e-13],\n",
      "       [-1.50625e-12]]), array([[2.0750e-12],\n",
      "       [2.7000e-12],\n",
      "       [2.3875e-12],\n",
      "       ...,\n",
      "       [1.7625e-12],\n",
      "       [1.1375e-12],\n",
      "       [5.1250e-13]]), array([[-1.36875e-12],\n",
      "       [ 1.93750e-13],\n",
      "       [ 1.93750e-13],\n",
      "       ...,\n",
      "       [ 8.31875e-12],\n",
      "       [ 7.69375e-12],\n",
      "       [ 5.81875e-12]]), array([[-6.9625e-12],\n",
      "       [-8.5250e-12],\n",
      "       [-6.6500e-12],\n",
      "       ...,\n",
      "       [ 2.1000e-12],\n",
      "       [ 8.5000e-13],\n",
      "       [ 1.7875e-12]]), array([[-2.2875e-12],\n",
      "       [-1.6625e-12],\n",
      "       [-4.1250e-13],\n",
      "       ...,\n",
      "       [ 1.7750e-12],\n",
      "       [ 3.0250e-12],\n",
      "       [ 2.7125e-12]]), array([[ 1.425e-12],\n",
      "       [-1.375e-13],\n",
      "       [ 1.750e-13],\n",
      "       ...,\n",
      "       [ 8.000e-13],\n",
      "       [ 2.050e-12],\n",
      "       [ 1.425e-12]]), array([[-3.83125e-12],\n",
      "       [-1.95625e-12],\n",
      "       [-3.93750e-13],\n",
      "       ...,\n",
      "       [-2.89375e-12],\n",
      "       [-1.33125e-12],\n",
      "       [ 2.31250e-13]]), array([[-1.965625e-12],\n",
      "       [-9.062500e-14],\n",
      "       [ 1.159375e-12],\n",
      "       ...,\n",
      "       [-2.590625e-12],\n",
      "       [-3.840625e-12],\n",
      "       [-1.028125e-12]]), array([[-2.39375e-12],\n",
      "       [-2.39375e-12],\n",
      "       [-8.31250e-13],\n",
      "       ...,\n",
      "       [ 3.23125e-12],\n",
      "       [ 1.35625e-12],\n",
      "       [-2.06250e-13]]), array([[ 1.04375e-12],\n",
      "       [ 1.98125e-12],\n",
      "       [ 7.31250e-13],\n",
      "       ...,\n",
      "       [-1.45625e-12],\n",
      "       [ 1.98125e-12],\n",
      "       [ 3.23125e-12]]), array([[-1.406250e-13],\n",
      "       [-1.406250e-13],\n",
      "       [ 2.359375e-12],\n",
      "       ...,\n",
      "       [ 1.109375e-12],\n",
      "       [ 1.421875e-12],\n",
      "       [-1.406250e-13]]), array([[-5.090625e-12],\n",
      "       [-4.778125e-12],\n",
      "       [-3.215625e-12],\n",
      "       ...,\n",
      "       [ 4.596875e-12],\n",
      "       [ 3.659375e-12],\n",
      "       [ 4.909375e-12]]), array([[ 4.843750e-13],\n",
      "       [ 4.843750e-13],\n",
      "       [ 4.843750e-13],\n",
      "       ...,\n",
      "       [ 1.109375e-12],\n",
      "       [-7.656250e-13],\n",
      "       [-3.265625e-12]]), array([[-2.609375e-12],\n",
      "       [-4.218750e-13],\n",
      "       [ 1.765625e-12],\n",
      "       ...,\n",
      "       [-5.734375e-12],\n",
      "       [-6.984375e-12],\n",
      "       [-6.359375e-12]]), array([[-2.9875e-12],\n",
      "       [-4.8750e-13],\n",
      "       [ 3.2625e-12],\n",
      "       ...,\n",
      "       [-1.0175e-11],\n",
      "       [-9.2375e-12],\n",
      "       [-7.3625e-12]]), array([[1.24375e-12],\n",
      "       [2.18125e-12],\n",
      "       [9.31250e-13],\n",
      "       ...,\n",
      "       [1.55625e-12],\n",
      "       [2.49375e-12],\n",
      "       [1.86875e-12]]), array([[-3.437500e-14],\n",
      "       [-9.718750e-13],\n",
      "       [-6.593750e-13],\n",
      "       ...,\n",
      "       [ 4.340625e-12],\n",
      "       [ 4.340625e-12],\n",
      "       [ 4.028125e-12]]), array([[ 2.021875e-12],\n",
      "       [-7.906250e-13],\n",
      "       [-1.415625e-12],\n",
      "       ...,\n",
      "       [ 1.709375e-12],\n",
      "       [ 7.718750e-13],\n",
      "       [ 2.646875e-12]]), array([[-2.515625e-12],\n",
      "       [-6.406250e-13],\n",
      "       [-1.265625e-12],\n",
      "       ...,\n",
      "       [ 4.359375e-12],\n",
      "       [ 4.671875e-12],\n",
      "       [ 4.671875e-12]]), array([[3.603125e-12],\n",
      "       [3.603125e-12],\n",
      "       [3.603125e-12],\n",
      "       ...,\n",
      "       [7.906250e-13],\n",
      "       [2.040625e-12],\n",
      "       [1.103125e-12]]), array([[-2.0875e-12],\n",
      "       [-1.4625e-12],\n",
      "       [-5.2500e-13],\n",
      "       ...,\n",
      "       [ 4.4750e-12],\n",
      "       [ 3.5375e-12],\n",
      "       [ 2.2875e-12]]), array([[-5.3000e-12],\n",
      "       [-3.4250e-12],\n",
      "       [-2.4875e-12],\n",
      "       ...,\n",
      "       [-5.6125e-12],\n",
      "       [-4.0500e-12],\n",
      "       [-2.8000e-12]]), array([[2.5750e-12],\n",
      "       [1.0125e-12],\n",
      "       [2.8875e-12],\n",
      "       ...,\n",
      "       [4.7625e-12],\n",
      "       [5.7000e-12],\n",
      "       [6.3250e-12]]), array([[-3.5750e-12],\n",
      "       [-4.2000e-12],\n",
      "       [-3.2625e-12],\n",
      "       ...,\n",
      "       [ 8.3000e-12],\n",
      "       [ 8.6125e-12],\n",
      "       [ 6.1125e-12]]), array([[ 2.371875e-12],\n",
      "       [ 1.434375e-12],\n",
      "       [ 1.434375e-12],\n",
      "       ...,\n",
      "       [-5.128125e-12],\n",
      "       [-7.003125e-12],\n",
      "       [-8.878125e-12]])]\n"
     ]
    }
   ],
   "source": [
    "#Create 2 lists to collect time and signal vectors \n",
    "TIME, REC = [],[]\n",
    "\n",
    "#This loop will append one by one each episode of the recording in our lists\n",
    "for episode in bl.segments :\n",
    "    time = episode.analogsignals[0].times #The time vector\n",
    "    TIME.append(time)\n",
    "    \n",
    "    rec = episode.analogsignals[0].magnitude #The signal vector    \n",
    "    leak = np.mean(rec[0:100]) #The offest of the trace\n",
    "    REC.append(rec-leak) #We extract the signal minus the offset\n",
    "    \n",
    "print (REC)"
   ]
  },
  {
   "cell_type": "code",
   "execution_count": 4,
   "metadata": {},
   "outputs": [
    {
     "data": {
      "text/plain": [
       "[<matplotlib.lines.Line2D at 0x141f4641630>]"
      ]
     },
     "execution_count": 4,
     "metadata": {},
     "output_type": "execute_result"
    }
   ],
   "source": [
    "#Let's compute the average recording \n",
    "AVERAGE = np.mean(REC,axis = 0)\n",
    "\n",
    "#Now it's time the show everything\n",
    "plt.figure()\n",
    "\n",
    "#Let's display each trace superimposed\n",
    "for i in range(len(REC)):\n",
    "    plt.plot(TIME[i],REC[i],color = '0.5', alpha = 0.4)\n",
    "\n",
    "#And the the average\n",
    "plt.plot(TIME[0],AVERAGE,color='blue')"
   ]
  },
  {
   "cell_type": "code",
   "execution_count": 5,
   "metadata": {
    "collapsed": true
   },
   "outputs": [],
   "source": [
    "#To find the PSC amplitude, we first have to set our time window for measurement\n",
    "#Here between 501 and 540 ms \n",
    "start = np.ravel(np.where(TIME[0] >= 0.501))[0]\n",
    "stop = np.ravel(np.where(TIME[0] >= 0.540))[0]"
   ]
  },
  {
   "cell_type": "code",
   "execution_count": 6,
   "metadata": {},
   "outputs": [
    {
     "name": "stdout",
     "output_type": "stream",
     "text": [
      "-2.0047499999999995e-10\n"
     ]
    }
   ],
   "source": [
    "#Now we get the minimum value in the window (=max amp)\n",
    "#And the index of the value (ie where it is in the global vector)\n",
    "MIN = np.min(AVERAGE[start:stop])\n",
    "MIN_idx = TIME[0][np.ravel(np.where(AVERAGE == MIN))[0]]\n",
    "\n",
    "print (MIN)"
   ]
  },
  {
   "cell_type": "code",
   "execution_count": 7,
   "metadata": {},
   "outputs": [
    {
     "data": {
      "image/png": "[encoded data removed]",
      "text/plain": [
       "<Figure size 432x288 with 1 Axes>"
      ]
     },
     "metadata": {},
     "output_type": "display_data"
    }
   ],
   "source": [
    "#And we plot it\n",
    "plt.scatter(MIN_idx,MIN, s=50, color='orange')\n",
    "\n",
    "#Add a few graphic element on the plot\n",
    "plt.xlabel('Time (s)')\n",
    "plt.ylabel('Signal (Amp)')\n",
    "plt.title('It is amazing')\n",
    "\n",
    "#Limits the plot borders for better view\n",
    "plt.xlim(TIME[0][start],TIME[0][stop])\n",
    "plt.ylim(-3e-10,0.5e-10)\n",
    "plt.show()"
   ]
  },
  {
   "cell_type": "code",
   "execution_count": null,
   "metadata": {
    "collapsed": true
   },
   "outputs": [],
   "source": []
  }
 ],
 "metadata": {
  "kernelspec": {
   "display_name": "Python 3",
   "language": "python",
   "name": "python3"
  },
  "language_info": {
   "codemirror_mode": {
    "name": "ipython",
    "version": 3
   },
   "file_extension": ".py",
   "mimetype": "text/x-python",
   "name": "python",
   "nbconvert_exporter": "python",
   "pygments_lexer": "ipython3",
   "version": "3.6.3"
  }
 },
 "nbformat": 4,
 "nbformat_minor": 2
}
