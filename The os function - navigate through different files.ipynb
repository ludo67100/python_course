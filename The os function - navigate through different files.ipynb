{
 "cells": [
  {
   "cell_type": "code",
   "execution_count": 1,
   "metadata": {},
   "outputs": [],
   "source": [
    "#Ok let's do this : a script to get data from several files, do an average and then plot the result \n",
    "#You should download the \"Fake Files\" folder. It contains 3 excel files, it contains several measurements\n",
    "#In 4 conditions A, B, C and D \n",
    "\n",
    "#First we import what we'll need \n",
    "import os, pandas, numpy\n",
    "from matplotlib import pyplot as plt"
   ]
  },
  {
   "cell_type": "code",
   "execution_count": 2,
   "metadata": {},
   "outputs": [],
   "source": [
    "#Ok now specify the path to the folder containing the files (DON'T FORGET TO CHANGE IT ACCORDING TO YOUR SITUATION !)\n",
    "path = r\"U:\\Python courses PRN\\Fake Files\""
   ]
  },
  {
   "cell_type": "code",
   "execution_count": 3,
   "metadata": {},
   "outputs": [
    {
     "name": "stdout",
     "output_type": "stream",
     "text": [
      "['File_0002.xlsx', 'File_0001.xlsx', 'File_0003.xlsx']\n"
     ]
    }
   ],
   "source": [
    "#Now let's generate a list containing the file names, automatically \n",
    "files = os.listdir(path)\n",
    "print (files)"
   ]
  },
  {
   "cell_type": "code",
   "execution_count": 4,
   "metadata": {},
   "outputs": [
    {
     "name": "stdout",
     "output_type": "stream",
     "text": [
      "['File_0001.xlsx', 'File_0002.xlsx', 'File_0003.xlsx']\n"
     ]
    }
   ],
   "source": [
    "#Great, we have the names of the 3 files ! However they are in a weird order... That's something we have to fix. \n",
    "#Let's sort them by the alphabetico-numeric order using the sorted() function \n",
    "files = sorted(files)\n",
    "print (files)"
   ]
  },
  {
   "cell_type": "code",
   "execution_count": 5,
   "metadata": {},
   "outputs": [],
   "source": [
    "#Much better. Usually this is how files are sorted in Windows/Mac operating systems. \n",
    "#Now, the real stuff, we will call the file using a for loop, to operate the average on each file, but first we need to\n",
    "#Create a container to store the different averages\n",
    "averages = [] #An empty list (for now !)"
   ]
  },
  {
   "cell_type": "code",
   "execution_count": 6,
   "metadata": {},
   "outputs": [
    {
     "name": "stdout",
     "output_type": "stream",
     "text": [
      "Here is the data in File_0001.xlsx\n",
      "   A   B     C   D\n",
      "0  1   5    21   2\n",
      "1  2  25     2  23\n",
      "2  3   6     5   2\n",
      "3  4  85     5  15\n",
      "4  5   2  8744  85\n",
      "5  6   6     2   2\n",
      "Here is the average\n",
      "[   3.5          21.5        1463.16666667   21.5       ]\n",
      "Here is the data in File_0002.xlsx\n",
      "    A    B     C   D\n",
      "0   1   20    21   8\n",
      "1   5   25     8  23\n",
      "2  54   23   215   8\n",
      "3   3    2     9  15\n",
      "4  84  222  8744  85\n",
      "5   6    6     5   5\n",
      "Here is the average\n",
      "[  25.5          49.66666667 1500.33333333   24.        ]\n",
      "Here is the data in File_0003.xlsx\n",
      "     A    B    C    D\n",
      "0    1  552   21    8\n",
      "1   54   25   77    5\n",
      "2   54   53  215   77\n",
      "3    3    2    9    8\n",
      "4  248  222   45   85\n",
      "5    6    6    5  445\n",
      "Here is the average\n",
      "[ 61.         143.33333333  62.         104.66666667]\n"
     ]
    }
   ],
   "source": [
    "#Now the for loop to compute each file \n",
    "for name in files:\n",
    "    \n",
    "    #Use pandas to open the excel file \n",
    "    data = pandas.read_excel(r\"%s\\%s\"%(path,name))\n",
    "    print (\"Here is the data in %s\"%name)\n",
    "    print data\n",
    "    \n",
    "    #Now numpy to perform averaging on DataFrame.values (dataframe to array)\n",
    "    average = numpy.mean(data.values, axis=0) #The axis refers to direction : 0 for row wise, 1 for column wise\n",
    "    print (\"Here is the average\")\n",
    "    print (average)\n",
    "    \n",
    "    #And do not forget to save this average array in the container previously defined \n",
    "    averages.append(average)\n",
    "    \n",
    "    "
   ]
  },
  {
   "cell_type": "code",
   "execution_count": 7,
   "metadata": {},
   "outputs": [
    {
     "data": {
      "image/png": "[encoded data removed]",
      "text/plain": [
       "<Figure size 432x288 with 1 Axes>"
      ]
     },
     "metadata": {
      "needs_background": "light"
     },
     "output_type": "display_data"
    }
   ],
   "source": [
    "#Ok, you just opened 3 files, did some math on it, in like 5 lines. Amazing :) \n",
    "#Now let's go for the plot, that should be a piece of cake so to increase the skill we'll use a loop as well \n",
    "\n",
    "#Call the figure\n",
    "plt.figure()\n",
    "\n",
    "#We have 3 files, let's say 3 conditions then, let's go for 3 colors \n",
    "colors = ['Green','Orange','Blue']\n",
    "\n",
    "#And now this fancy plot loop \n",
    "for i in range(len(averages)):\n",
    "    plt.plot(averages[i],label=files[i],color=colors[i])\n",
    "    \n",
    "#Let's add the legend \n",
    "plt.legend(loc='best')\n",
    "\n",
    "#Show me that plot !! (not required for last Python version)\n",
    "plt.show()"
   ]
  },
  {
   "cell_type": "code",
   "execution_count": null,
   "metadata": {},
   "outputs": [],
   "source": []
  }
 ],
 "metadata": {
  "kernelspec": {
   "display_name": "Python 2",
   "language": "python",
   "name": "python2"
  },
  "language_info": {
   "codemirror_mode": {
    "name": "ipython",
    "version": 2
   },
   "file_extension": ".py",
   "mimetype": "text/x-python",
   "name": "python",
   "nbconvert_exporter": "python",
   "pygments_lexer": "ipython2",
   "version": "2.7.15"
  }
 },
 "nbformat": 4,
 "nbformat_minor": 2
}
