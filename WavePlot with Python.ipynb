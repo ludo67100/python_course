{
 "cells": [
  {
   "cell_type": "code",
   "execution_count": 1,
   "metadata": {},
   "outputs": [],
   "source": [
    "#First import pandas and numpy\n",
    "import numpy, pandas"
   ]
  },
  {
   "cell_type": "code",
   "execution_count": 2,
   "metadata": {},
   "outputs": [
    {
     "name": "stdout",
     "output_type": "stream",
     "text": [
      "                0           1          2          3          4          5  \\\n",
      "0       -1.731316    3.760796  -3.833734  -1.870785  -0.388500   0.895412   \n",
      "1       -1.426132    7.423016  -3.528551  -2.786339   1.747796  -1.240883   \n",
      "2       -0.205391    3.760796  -4.444105  -3.701895   1.137425   1.810968   \n",
      "3       -1.731316    3.150425  -6.275213  -1.260415  -0.083316  -0.935698   \n",
      "4        1.320538    4.065983  -3.528551  -4.617449   2.358164  -1.240883   \n",
      "5       -0.510574    1.624500  -4.138921  -3.396710  -0.083316   1.505783   \n",
      "6       -0.205391    3.760796  -5.664846  -2.481154  -0.998870  -0.630512   \n",
      "7        1.015350    1.319313  -1.697439  -4.312266   2.052981  -0.325327   \n",
      "8       -0.510574    1.014130  -4.138921  -1.565600  -2.219612   0.590229   \n",
      "9        1.625721    3.150425  -2.918180  -2.175969  -0.693685  -1.851252   \n",
      "10       0.710167   -0.816978  -2.002622  -2.481154  -1.609241   0.895412   \n",
      "11       0.099796    1.014130  -3.223364   0.265512  -1.914426  -3.071993   \n",
      "12       2.236092    0.708943  -0.781885  -2.786339   0.527054  -0.935698   \n",
      "13      -0.510574   -0.816978  -2.307810  -2.175969  -1.914426   2.726524   \n",
      "14       0.710167    2.234871  -2.612993  -2.786339  -2.524797  -0.020142   \n",
      "15       0.404980   -0.816978   0.133669  -3.701895   0.527054   2.726524   \n",
      "16      -0.510574   -0.816978  -3.528551  -1.870785  -2.219612   3.336893   \n",
      "17       2.236092    1.319313  -3.223364  -4.617449  -1.609241   1.810968   \n",
      "18      -0.510574   -2.037720  -2.002622  -4.312266  -0.388500   5.168005   \n",
      "19       1.015350    0.098576  -4.749292  -2.175969  -2.219612   3.642078   \n",
      "20       1.320538   -1.427349  -2.918180  -4.617449   0.221869   3.642078   \n",
      "21       0.710167   -2.342907  -3.833734  -2.786339  -2.829980   5.778374   \n",
      "22       3.762016    0.403759  -5.359663  -4.312266  -1.609241   1.810968   \n",
      "23       2.236092   -2.648090  -1.087068  -4.312266   1.442610   3.031709   \n",
      "24       1.320538   -2.342907  -5.054476  -1.870785  -0.998870   1.505783   \n",
      "25       4.067200   -0.511795  -4.444105  -4.312266   0.221869  -0.325327   \n",
      "26       1.015350   -2.648090  -2.002622  -3.701895   1.442610   0.285044   \n",
      "27       2.541279    0.098576  -5.664846  -3.091525   0.527054  -1.546068   \n",
      "28       1.930908   -2.953277  -2.918180  -4.617449   3.273720  -3.071993   \n",
      "29       0.404980   -2.342907  -4.749292  -0.039673   2.663350   0.590229   \n",
      "...           ...         ...        ...        ...        ...        ...   \n",
      "119778 -84.436470 -114.956196 -81.350748 -75.420390 -55.932189 -60.446787   \n",
      "119779 -83.520912 -118.008060 -82.266298 -74.199648 -57.763290 -61.667528   \n",
      "119780 -83.215729 -114.956196 -80.740381 -76.030764 -54.406265 -62.277903   \n",
      "119781 -85.962402 -118.008060 -82.266298 -74.199648 -55.932189 -59.836420   \n",
      "119782 -83.520912 -118.313236 -83.487039 -75.725581 -56.847747 -61.667528   \n",
      "119783 -86.572769 -115.261387 -81.045564 -77.251498 -54.711448 -62.583086   \n",
      "119784 -88.403877 -118.923603 -81.961115 -74.504840 -58.678848 -61.057162   \n",
      "119785 -86.572769 -116.482120 -78.909265 -78.472239 -58.373664 -63.803828   \n",
      "119786 -90.234978 -116.787311 -79.519640 -77.861865 -58.984031 -62.888270   \n",
      "119787 -88.098694 -117.702869 -79.519640 -78.167056 -61.120330 -63.193461   \n",
      "119788 -90.845360 -114.345829 -75.552225 -79.692980 -60.204772 -64.719378   \n",
      "119789 -91.760902 -116.787311 -77.383341 -76.641123 -61.730705 -61.362345   \n",
      "119790 -89.319420 -117.092502 -76.467783 -78.777423 -63.561813 -63.193461   \n",
      "119791 -92.371285 -115.261387 -75.552225 -79.082606 -60.815147 -63.803828   \n",
      "119792 -90.540169 -117.702869 -77.078157 -75.725581 -64.782554 -60.751978   \n",
      "119793 -91.455727 -117.092502 -75.857416 -79.387797 -63.561813 -63.193461   \n",
      "119794 -92.371285 -119.533985 -76.772966 -77.251498 -62.035888 -62.888270   \n",
      "119795 -89.319420 -120.144352 -79.214449 -77.556681 -65.392929 -62.583086   \n",
      "119796 -90.845360 -118.313236 -76.467783 -78.777423 -62.951446 -63.803828   \n",
      "119797 -91.150536 -121.670276 -80.130007 -75.115206 -64.477371 -61.362345   \n",
      "119798 -89.624611 -121.365085 -79.519640 -77.861865 -65.087738 -63.193461   \n",
      "119799 -92.371285 -121.365085 -77.078157 -77.861865 -61.730705 -64.719378   \n",
      "119800 -89.929802 -123.196201 -78.909265 -75.725581 -65.087738 -61.362345   \n",
      "119801 -91.455727 -120.754719 -76.772966 -78.472239 -65.392929 -65.329745   \n",
      "119802 -92.371285 -123.501392 -77.383341 -76.030764 -63.866996 -64.719378   \n",
      "119803 -87.793503 -123.806568 -77.383341 -77.251498 -65.698112 -63.803828   \n",
      "119804 -91.760902 -120.449543 -74.331484 -79.082606 -64.172187 -66.855677   \n",
      "119805 -89.929802 -123.806568 -77.383341 -74.810023 -64.172187 -65.329745   \n",
      "119806 -89.929802 -121.670276 -78.909265 -79.387797 -64.782554 -66.855677   \n",
      "119807 -91.760902 -121.365085 -76.162599 -79.082606 -59.594406 -68.381602   \n",
      "\n",
      "                6          7          8          9  \n",
      "0        3.006379  -1.420636   2.765892   0.554520  \n",
      "1        3.616749  -0.810267   3.376263   2.690819  \n",
      "2        3.311564  -4.472487   4.902187  -0.971404  \n",
      "3        1.785637  -2.336192   2.765892  -1.886958  \n",
      "4        4.837489  -3.556931   4.597004  -0.971404  \n",
      "5        1.480452  -5.082858   3.071075  -4.633624  \n",
      "6        0.870083  -1.115451   2.765892  -2.802513  \n",
      "7        2.396008  -4.472487   6.122929  -4.328441  \n",
      "8       -1.266212  -3.862117   2.460705  -6.159553  \n",
      "9       -0.045473  -1.725821   3.986633  -1.581775  \n",
      "10      -0.961028  -3.251748   4.291817  -4.328441  \n",
      "11      -4.318065  -1.420636   2.460705  -2.802513  \n",
      "12      -0.655843  -2.946563   5.817745  -1.581775  \n",
      "13      -4.928436  -3.862117   2.460705  -3.107700  \n",
      "14      -4.928436  -0.505082   2.460705   0.249337  \n",
      "15      -3.707694  -4.167302   4.597004  -0.666221  \n",
      "16      -6.454360  -3.251748   0.629597  -1.276592  \n",
      "17      -2.792137  -1.725821   3.681446   1.470078  \n",
      "18      -4.623248  -4.472487   2.155521  -1.886958  \n",
      "19      -4.012878  -2.641377   0.934784  -0.971404  \n",
      "20      -0.655843  -2.946563   4.291817  -1.276592  \n",
      "21      -3.097324  -3.251748   0.934784  -3.412883  \n",
      "22      -0.961028   0.715659   1.545155   0.249337  \n",
      "23      -1.571397  -1.420636   3.071075  -3.107700  \n",
      "24      -3.097324  -0.810267   0.934784  -2.802513  \n",
      "25       0.259713   1.020845   4.597004  -0.361034  \n",
      "26      -3.097324  -0.199897   1.239967  -3.718070  \n",
      "27      -3.402507   1.631213   2.155521  -0.971404  \n",
      "28      -1.571397   0.715659   3.986633  -1.886958  \n",
      "29      -4.012878   0.105289   1.239967  -3.412883  \n",
      "...           ...        ...        ...        ...  \n",
      "119778 -82.445449 -67.035430 -82.075561 -77.572856  \n",
      "119779 -85.802482 -69.171721 -81.465195 -78.793598  \n",
      "119780 -83.360999 -65.509505 -78.413338 -75.436565  \n",
      "119781 -84.276550 -65.509505 -80.854820 -78.793598  \n",
      "119782 -85.497291 -65.814688 -77.497780 -77.572856  \n",
      "119783 -82.140266 -61.542098 -78.108154 -76.962489  \n",
      "119784 -85.192108 -64.288764 -77.802971 -79.403972  \n",
      "119785 -85.497291 -63.983580 -74.140747 -77.267673  \n",
      "119786 -84.276550 -63.678397 -78.718521 -78.793598  \n",
      "119787 -87.328407 -65.814688 -76.582230 -80.014339  \n",
      "119788 -85.802482 -63.678397 -77.497780 -77.267673  \n",
      "119789 -87.023223 -65.814688 -80.854820 -81.540271  \n",
      "119790 -87.938774 -66.425063 -79.023712 -80.319530  \n",
      "119791 -84.886924 -64.593947 -82.685936 -80.319530  \n",
      "119792 -88.243965 -67.950988 -84.517036 -82.455814  \n",
      "119793 -87.938774 -67.340621 -83.296303 -80.014339  \n",
      "119794 -87.328407 -67.645804 -87.263702 -82.455814  \n",
      "119795 -89.464706 -70.392462 -85.127411 -82.761005  \n",
      "119796 -86.718032 -67.950988 -87.263702 -80.319530  \n",
      "119797 -88.549148 -69.476905 -87.263702 -82.761005  \n",
      "119798 -89.464706 -70.697646 -83.906670 -80.929897  \n",
      "119799 -87.328407 -67.340621 -86.653336 -80.929897  \n",
      "119800 -90.075073 -71.002837 -85.432594 -81.845455  \n",
      "119801 -87.938774 -70.392462 -84.517036 -77.572856  \n",
      "119802 -87.938774 -68.561354 -86.653336 -80.624713  \n",
      "119803 -89.464706 -71.002837 -82.685936 -79.709155  \n",
      "119804 -85.802482 -67.035430 -85.432594 -76.962489  \n",
      "119805 -89.464706 -68.866538 -85.127411 -79.403972  \n",
      "119806 -88.549148 -68.866538 -82.075561 -75.436565  \n",
      "119807 -87.023223 -64.899138 -83.906670 -76.352115  \n",
      "\n",
      "[119808 rows x 10 columns]\n"
     ]
    }
   ],
   "source": [
    "#Now let's load the data from the excel in the python environnement\n",
    "data = pandas.read_excel(r\"U:\\Python courses PRN\\chroma_data.xlsx\")\n",
    "print (data)"
   ]
  },
  {
   "cell_type": "code",
   "execution_count": 3,
   "metadata": {},
   "outputs": [
    {
     "name": "stdout",
     "output_type": "stream",
     "text": [
      "<class 'pandas.core.frame.DataFrame'>\n"
     ]
    }
   ],
   "source": [
    "#Let's check the identity of our data \n",
    "print type(data)"
   ]
  },
  {
   "cell_type": "code",
   "execution_count": 4,
   "metadata": {},
   "outputs": [
    {
     "name": "stdout",
     "output_type": "stream",
     "text": [
      "[[  -1.73131567   -1.42613226   -0.20539099 ...  -89.929802\n",
      "   -89.929802    -91.76090246]\n",
      " [   3.76079581    7.42301582    3.76079581 ... -123.80656792\n",
      "  -121.67027642 -121.36508538]\n",
      " [  -3.83373423   -3.52855082   -4.44410487 ...  -77.38334055\n",
      "   -78.90926524  -76.16259928]\n",
      " ...\n",
      " [  -1.42063594   -0.81026721   -4.47248721 ...  -68.86653781\n",
      "   -68.86653781  -64.89913821]\n",
      " [   2.76589207    3.3762627     4.90218738 ...  -85.12741085\n",
      "   -82.07556149  -83.90666958]\n",
      " [   0.55452026    2.6908194    -0.97140442 ...  -79.40397202\n",
      "   -75.43656479  -76.35211502]]\n",
      "('data is a', <type 'numpy.ndarray'>, '!')\n"
     ]
    }
   ],
   "source": [
    "#Hum... This a DataFrame ! For further stuff we should turn this into a Numpy Array\n",
    "#And let's turn it 90° clockwise, it wil be easier to read \n",
    "data = data.values.transpose()\n",
    "print (data)\n",
    "print ('data is a',type(data),'!')"
   ]
  },
  {
   "cell_type": "code",
   "execution_count": 6,
   "metadata": {},
   "outputs": [
    {
     "name": "stdout",
     "output_type": "stream",
     "text": [
      "[0.00000000e+00 1.58500006e-05 3.17000013e-05 ... 1.89890933e+00\n",
      " 1.89892518e+00 1.89894103e+00]\n"
     ]
    }
   ],
   "source": [
    "#Great, we have our data, properly formated. Now we need the time vector for the plot. \n",
    "time = pandas.read_excel(r\"U:\\Python courses PRN\\chroma_time.xlsx\")\n",
    "\n",
    "#Same as above, we should convert it to an array, transpose it and extract only the first episode\n",
    "#to align all the data on the same time axis \n",
    "time = time.values.transpose()[0]\n",
    "\n",
    "print(time)"
   ]
  },
  {
   "cell_type": "code",
   "execution_count": 7,
   "metadata": {},
   "outputs": [],
   "source": [
    "#Now we can start this tremendous figure, first the stage set, we need our friend pyplot for this\n",
    "from matplotlib import pyplot as plt \n",
    "\n",
    "#We are nuts, so let's go for a 3D plot \n",
    "from mpl_toolkits.mplot3d import Axes3D\n",
    "\n",
    "#Prepare the figure\n",
    "fig = plt.figure()\n",
    "ax = fig.gca(projection='3d',azim=-110,elev=20)"
   ]
  },
  {
   "cell_type": "code",
   "execution_count": 8,
   "metadata": {},
   "outputs": [],
   "source": [
    "#Prepare the different axis\n",
    "x = time\n",
    "y = range(data.shape[0])"
   ]
  },
  {
   "cell_type": "code",
   "execution_count": 10,
   "metadata": {},
   "outputs": [],
   "source": [
    "X,Y = numpy.meshgrid(x,y)\n",
    "Z = data"
   ]
  },
  {
   "cell_type": "code",
   "execution_count": 11,
   "metadata": {},
   "outputs": [
    {
     "data": {
      "text/plain": [
       "Text(0.5,0,'I (pA)')"
      ]
     },
     "execution_count": 11,
     "metadata": {},
     "output_type": "execute_result"
    },
    {
     "data": {
      "image/png": "[encoded data removed]",
      "text/plain": [
       "<Figure size 432x288 with 2 Axes>"
      ]
     },
     "metadata": {
      "needs_background": "light"
     },
     "output_type": "display_data"
    }
   ],
   "source": [
    "#Do the surface plot\n",
    "surface = ax.plot_surface(X,Y,Z,cmap='jet_r')\n",
    "\n",
    "#Add a few elements\n",
    "plt.xlabel('Time (s)')\n",
    "plt.ylabel('Stim #')\n",
    "           \n",
    "#And a colorbar\n",
    "cbar = plt.colorbar(surface,orientation='horizontal')\n",
    "cbar.ax.set_xlabel('I (pA)')"
   ]
  },
  {
   "cell_type": "code",
   "execution_count": null,
   "metadata": {},
   "outputs": [],
   "source": [
    "#The plot is not displayed cause JuPyter can't hold 3D views, it should work in ur console ! "
   ]
  }
 ],
 "metadata": {
  "kernelspec": {
   "display_name": "Python 2",
   "language": "python",
   "name": "python2"
  },
  "language_info": {
   "codemirror_mode": {
    "name": "ipython",
    "version": 2
   },
   "file_extension": ".py",
   "mimetype": "text/x-python",
   "name": "python",
   "nbconvert_exporter": "python",
   "pygments_lexer": "ipython2",
   "version": "2.7.15"
  }
 },
 "nbformat": 4,
 "nbformat_minor": 2
}
